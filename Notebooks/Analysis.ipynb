{
 "cells": [
  {
   "cell_type": "code",
   "execution_count": 18,
   "id": "521f493c-d349-40fc-a194-6f9682088eb5",
   "metadata": {},
   "outputs": [],
   "source": [
    "path = '/home/hv2237/GYAFC_Corpus/Family_Relationships'\n",
    "data = {}\n",
    "for split in ['train']:\n",
    "    data[split] = []\n",
    "    for f, i in zip(open(f'{path}/{split}/formal').readlines(),open(f'{path}/{split}/informal').readlines()):\n",
    "        data[split].append({'formal':f[:-1], 'informal':i[:-1]})\n",
    "        \n",
    "for split in ['tune', 'test']:\n",
    "    data[split] = []\n",
    "    refs = [open(f'{path}/{split}/formal.ref{i}').readlines() for i in range(4)]\n",
    "    inp = open(f'{path}/{split}/informal').readlines()\n",
    "    for f in range(len(inp)):\n",
    "        temp = {}\n",
    "        temp['informal'] = inp[f][:-1]\n",
    "        for i in range(4):\n",
    "            temp[f'formal.ref{i}'] = refs[i][f][:-1]\n",
    "        data[split].append(temp)"
   ]
  },
  {
   "cell_type": "code",
   "execution_count": 19,
   "id": "75c992a5-01e7-4800-8c89-51f84163210c",
   "metadata": {},
   "outputs": [],
   "source": [
    "from nltk import word_tokenize\n",
    "import pandas as pd"
   ]
  },
  {
   "cell_type": "code",
   "execution_count": 20,
   "id": "94bed8b3-8197-4892-9260-9e1905be167f",
   "metadata": {},
   "outputs": [],
   "source": [
    "df = pd.DataFrame(data['train'])"
   ]
  },
  {
   "cell_type": "code",
   "execution_count": 21,
   "id": "1267f2a2-0d18-42f7-baa1-6f097b67dad6",
   "metadata": {},
   "outputs": [
    {
     "name": "stdout",
     "output_type": "stream",
     "text": [
      "Split: train, informal: 12.486674235572575, formal: 13.063463351742453\n",
      "Split: tune, informal: 12.133787661406025, formal: 12.22596843615495\n",
      "Split: test, informal: 12.59984984984985, formal: 12.9131006006006\n"
     ]
    }
   ],
   "source": [
    "import numpy as np\n",
    "for split in ['train', 'tune', 'test']:\n",
    "    df = pd.DataFrame(data[split])\n",
    "    informal = df['informal'].apply(lambda x: len(word_tokenize(x))).mean()\n",
    "    \n",
    "    formal = []\n",
    "    if split == 'train':\n",
    "        formal = df['formal'].apply(lambda x: len(word_tokenize(x))).mean()\n",
    "        print(f\"Split: {split}, informal: {informal}, formal: {formal}\")\n",
    "    else:\n",
    "        for i in range(4):\n",
    "            formal += df[f'formal.ref{i}'].apply(lambda x: len(word_tokenize(x))).tolist()\n",
    "        \n",
    "        print(f\"Split: {split}, informal: {informal}, formal: {np.mean(formal)}\")"
   ]
  },
  {
   "cell_type": "code",
   "execution_count": 22,
   "id": "c80fa2d0-11a8-42cc-8383-cc7613065624",
   "metadata": {},
   "outputs": [],
   "source": [
    "from tqdm import tqdm\n",
    "tqdm.pandas()"
   ]
  },
  {
   "cell_type": "code",
   "execution_count": 26,
   "id": "6c76f550-e08f-4898-a8ed-aaf15019138c",
   "metadata": {},
   "outputs": [],
   "source": [
    "df = pd.DataFrame(data['train'])"
   ]
  },
  {
   "cell_type": "code",
   "execution_count": 28,
   "id": "afe1468e-4218-4417-a650-4711468ac870",
   "metadata": {},
   "outputs": [
    {
     "name": "stderr",
     "output_type": "stream",
     "text": [
      "100%|██████████| 51967/51967 [02:23<00:00, 363.29it/s]\n"
     ]
    }
   ],
   "source": [
    "df['edit distance'] = df.progress_apply(lambda x: nltk.edit_distance(x['formal'], x['informal']), axis=1)"
   ]
  },
  {
   "cell_type": "code",
   "execution_count": 29,
   "id": "7d65a0d6-121a-474f-8bb0-bedc643a6579",
   "metadata": {},
   "outputs": [
    {
     "data": {
      "image/png": "[encoded data removed]",
      "text/plain": [
       "<Figure size 640x480 with 1 Axes>"
      ]
     },
     "metadata": {},
     "output_type": "display_data"
    }
   ],
   "source": [
    "axarr = df.hist(bins=100, range=(0,100))\n",
    "for ax in axarr.flatten():\n",
    "    ax.set_xlabel(\"Edit distance\")\n",
    "    ax.set_ylabel(\"Frequency\")"
   ]
  },
  {
   "cell_type": "code",
   "execution_count": null,
   "id": "1aaca10a-d3ae-43e7-a8a1-700ee2cb207d",
   "metadata": {},
   "outputs": [],
   "source": []
  }
 ],
 "metadata": {
  "kernelspec": {
   "display_name": "Python 3",
   "language": "python",
   "name": "python3"
  },
  "language_info": {
   "codemirror_mode": {
    "name": "ipython",
    "version": 3
   },
   "file_extension": ".py",
   "mimetype": "text/x-python",
   "name": "python",
   "nbconvert_exporter": "python",
   "pygments_lexer": "ipython3",
   "version": "3.7.12"
  }
 },
 "nbformat": 4,
 "nbformat_minor": 5
}
